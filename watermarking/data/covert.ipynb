{
 "cells": [
  {
   "cell_type": "code",
   "execution_count": 3,
   "metadata": {},
   "outputs": [],
   "source": [
    "import json\n",
    "\n",
    "# 打开 JSONL 文件并读取内容\n",
    "with open('/home/yangchenyu/watermarking/data/train_watermarking/backdoor_data_ii.jsonl', 'r') as jsonl_file:\n",
    "    data = [json.loads(line) for line in jsonl_file]\n",
    "\n",
    "# 将读取的内容保存到 JSON 文件中\n",
    "with open('/home/yangchenyu/llama-recipes/src/llama_recipes/datasets/watermarking/backdoor_data_ii.json', 'w') as json_file:\n",
    "    json.dump(data, json_file, indent=4)"
   ]
  }
 ],
 "metadata": {
  "kernelspec": {
   "display_name": "base",
   "language": "python",
   "name": "python3"
  },
  "language_info": {
   "codemirror_mode": {
    "name": "ipython",
    "version": 3
   },
   "file_extension": ".py",
   "mimetype": "text/x-python",
   "name": "python",
   "nbconvert_exporter": "python",
   "pygments_lexer": "ipython3",
   "version": "3.11.4"
  }
 },
 "nbformat": 4,
 "nbformat_minor": 2
}
